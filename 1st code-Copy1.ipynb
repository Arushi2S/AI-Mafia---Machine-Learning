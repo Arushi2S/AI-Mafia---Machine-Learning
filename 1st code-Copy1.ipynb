{
 "cells": [
  {
   "cell_type": "code",
   "execution_count": 1,
   "id": "2c57309a-7520-4dc5-9517-288d3cc5649d",
   "metadata": {},
   "outputs": [],
   "source": [
    "import numpy as np"
   ]
  },
  {
   "cell_type": "code",
   "execution_count": 2,
   "id": "bdcdb6f5-2391-4c6b-bd55-a3a037bc9ef3",
   "metadata": {},
   "outputs": [
    {
     "name": "stdout",
     "output_type": "stream",
     "text": [
      "NumPy version: 1.26.4\n",
      "Build Dependencies:\n",
      "  blas:\n",
      "    detection method: pkgconfig\n",
      "    found: true\n",
      "    include directory: C:/Users/Ashish Soti/anaconda3/Library/include\n",
      "    lib directory: C:/Users/Ashish Soti/anaconda3/Library/lib\n",
      "    name: mkl-sdl\n",
      "    openblas configuration: unknown\n",
      "    pc file directory: C:\\b\\abs_c1ywpu18ar\\croot\\numpy_and_numpy_base_1708638681471\\_h_env\\Library\\lib\\pkgconfig\n",
      "    version: '2023.1'\n",
      "  lapack:\n",
      "    detection method: internal\n",
      "    found: true\n",
      "    include directory: unknown\n",
      "    lib directory: unknown\n",
      "    name: dep1868282989520\n",
      "    openblas configuration: unknown\n",
      "    pc file directory: unknown\n",
      "    version: 1.26.4\n",
      "Compilers:\n",
      "  c:\n",
      "    commands: cl.exe\n",
      "    linker: link\n",
      "    name: msvc\n",
      "    version: 19.29.30154\n",
      "  c++:\n",
      "    commands: cl.exe\n",
      "    linker: link\n",
      "    name: msvc\n",
      "    version: 19.29.30154\n",
      "  cython:\n",
      "    commands: cython\n",
      "    linker: cython\n",
      "    name: cython\n",
      "    version: 3.0.8\n",
      "Machine Information:\n",
      "  build:\n",
      "    cpu: x86_64\n",
      "    endian: little\n",
      "    family: x86_64\n",
      "    system: windows\n",
      "  host:\n",
      "    cpu: x86_64\n",
      "    endian: little\n",
      "    family: x86_64\n",
      "    system: windows\n",
      "Python Information:\n",
      "  path: C:\\b\\abs_c1ywpu18ar\\croot\\numpy_and_numpy_base_1708638681471\\_h_env\\python.exe\n",
      "  version: '3.11'\n",
      "SIMD Extensions:\n",
      "  baseline:\n",
      "  - SSE\n",
      "  - SSE2\n",
      "  - SSE3\n",
      "  found:\n",
      "  - SSSE3\n",
      "  - SSE41\n",
      "  - POPCNT\n",
      "  - SSE42\n",
      "  - AVX\n",
      "  - F16C\n",
      "  - FMA3\n",
      "  - AVX2\n",
      "  not found:\n",
      "  - AVX512F\n",
      "  - AVX512CD\n",
      "  - AVX512_SKX\n",
      "  - AVX512_CLX\n",
      "  - AVX512_CNL\n",
      "  - AVX512_ICL\n",
      "\n"
     ]
    }
   ],
   "source": [
    "print(\"NumPy version:\", np.__version__)\n",
    "np.show_config()"
   ]
  },
  {
   "cell_type": "code",
   "execution_count": 3,
   "id": "e9ef937f-167e-4fc0-89ca-863a783ce949",
   "metadata": {},
   "outputs": [
    {
     "name": "stdout",
     "output_type": "stream",
     "text": [
      "[0. 0. 0. 0. 0. 0. 0. 0. 0. 0.]\n"
     ]
    }
   ],
   "source": [
    "null_vector = np.zeros(10)\n",
    "print(null_vector)"
   ]
  },
  {
   "cell_type": "code",
   "execution_count": 4,
   "id": "c6a4c074-abe2-4efc-a553-b3c10fb8cf9a",
   "metadata": {},
   "outputs": [
    {
     "name": "stdout",
     "output_type": "stream",
     "text": [
      "80\n"
     ]
    }
   ],
   "source": [
    "arr = np.zeros(10)\n",
    "memo = arr.nbytes\n",
    "print(memo)"
   ]
  },
  {
   "cell_type": "code",
   "execution_count": 5,
   "id": "cc6068bf-e114-480e-89ad-65e3160cef44",
   "metadata": {},
   "outputs": [
    {
     "name": "stdout",
     "output_type": "stream",
     "text": [
      "Help on ufunc:\n",
      "\n",
      "add = <ufunc 'add'>\n",
      "    add(x1, x2, /, out=None, *, where=True, casting='same_kind', order='K', dtype=None, subok=True[, signature, extobj])\n",
      "    \n",
      "    Add arguments element-wise.\n",
      "    \n",
      "    Parameters\n",
      "    ----------\n",
      "    x1, x2 : array_like\n",
      "        The arrays to be added.\n",
      "        If ``x1.shape != x2.shape``, they must be broadcastable to a common\n",
      "        shape (which becomes the shape of the output).\n",
      "    out : ndarray, None, or tuple of ndarray and None, optional\n",
      "        A location into which the result is stored. If provided, it must have\n",
      "        a shape that the inputs broadcast to. If not provided or None,\n",
      "        a freshly-allocated array is returned. A tuple (possible only as a\n",
      "        keyword argument) must have length equal to the number of outputs.\n",
      "    where : array_like, optional\n",
      "        This condition is broadcast over the input. At locations where the\n",
      "        condition is True, the `out` array will be set to the ufunc result.\n",
      "        Elsewhere, the `out` array will retain its original value.\n",
      "        Note that if an uninitialized `out` array is created via the default\n",
      "        ``out=None``, locations within it where the condition is False will\n",
      "        remain uninitialized.\n",
      "    **kwargs\n",
      "        For other keyword-only arguments, see the\n",
      "        :ref:`ufunc docs <ufuncs.kwargs>`.\n",
      "    \n",
      "    Returns\n",
      "    -------\n",
      "    add : ndarray or scalar\n",
      "        The sum of `x1` and `x2`, element-wise.\n",
      "        This is a scalar if both `x1` and `x2` are scalars.\n",
      "    \n",
      "    Notes\n",
      "    -----\n",
      "    Equivalent to `x1` + `x2` in terms of array broadcasting.\n",
      "    \n",
      "    Examples\n",
      "    --------\n",
      "    >>> np.add(1.0, 4.0)\n",
      "    5.0\n",
      "    >>> x1 = np.arange(9.0).reshape((3, 3))\n",
      "    >>> x2 = np.arange(3.0)\n",
      "    >>> np.add(x1, x2)\n",
      "    array([[  0.,   2.,   4.],\n",
      "           [  3.,   5.,   7.],\n",
      "           [  6.,   8.,  10.]])\n",
      "    \n",
      "    The ``+`` operator can be used as a shorthand for ``np.add`` on ndarrays.\n",
      "    \n",
      "    >>> x1 = np.arange(9.0).reshape((3, 3))\n",
      "    >>> x2 = np.arange(3.0)\n",
      "    >>> x1 + x2\n",
      "    array([[ 0.,  2.,  4.],\n",
      "           [ 3.,  5.,  7.],\n",
      "           [ 6.,  8., 10.]])\n",
      "\n"
     ]
    }
   ],
   "source": [
    "help(np.add)"
   ]
  },
  {
   "cell_type": "code",
   "execution_count": 6,
   "id": "5ac48288-e686-4068-8308-4fdd5a700736",
   "metadata": {},
   "outputs": [
    {
     "name": "stdout",
     "output_type": "stream",
     "text": [
      "[0. 0. 0. 0. 1. 0. 0. 0. 0. 0.]\n"
     ]
    }
   ],
   "source": [
    "null_vector = np.zeros(10)\n",
    "null_vector[4] = 1\n",
    "print(null_vector)"
   ]
  },
  {
   "cell_type": "code",
   "execution_count": 7,
   "id": "5e3e39a6-a4fc-4c84-a888-c4abd074ddf5",
   "metadata": {},
   "outputs": [
    {
     "name": "stdout",
     "output_type": "stream",
     "text": [
      "[10 11 12 13 14 15 16 17 18 19 20 21 22 23 24 25 26 27 28 29 30 31 32 33\n",
      " 34 35 36 37 38 39 40 41 42 43 44 45 46 47 48 49]\n"
     ]
    }
   ],
   "source": [
    "vector = np.arange(10, 50)\n",
    "print(vector)"
   ]
  },
  {
   "cell_type": "code",
   "execution_count": 8,
   "id": "8d4795c7-e85d-4ead-8a4f-a628c41a2e8f",
   "metadata": {},
   "outputs": [
    {
     "name": "stdout",
     "output_type": "stream",
     "text": [
      "Original vector: [1 2 3 4 5]\n",
      "Reversed vector: [5 4 3 2 1]\n"
     ]
    }
   ],
   "source": [
    "\n",
    "vector = np.array([1, 2, 3, 4, 5])\n",
    "\n",
    "reversed_vector = vector[::-1]\n",
    "\n",
    "print(\"Original vector:\", vector)\n",
    "print(\"Reversed vector:\", reversed_vector)"
   ]
  },
  {
   "cell_type": "code",
   "execution_count": 9,
   "id": "8af2dabe-7624-43c8-8637-0db52c31e45d",
   "metadata": {},
   "outputs": [
    {
     "name": "stdout",
     "output_type": "stream",
     "text": [
      "1. 3x3 Matrix with values ranging from 0 to 8:\n",
      "[[0 1 2]\n",
      " [3 4 5]\n",
      " [6 7 8]]\n"
     ]
    }
   ],
   "source": [
    "matrix = np.arange(9).reshape(3, 3)\n",
    "print(\"1. 3x3 Matrix with values ranging from 0 to 8:\")\n",
    "print(matrix)"
   ]
  },
  {
   "cell_type": "code",
   "execution_count": 10,
   "id": "189b2998-e959-4a17-a8ce-82c0f2b3d006",
   "metadata": {},
   "outputs": [
    {
     "name": "stdout",
     "output_type": "stream",
     "text": [
      "\n",
      "2. Indices of non-zero elements:\n",
      "(array([0, 1, 4], dtype=int64),)\n"
     ]
    }
   ],
   "source": [
    "arr = np.array([1, 2, 0, 0, 4, 0])\n",
    "non_zero_indices = np.nonzero(arr)\n",
    "print(\"\\n2. Indices of non-zero elements:\")\n",
    "print(non_zero_indices)"
   ]
  },
  {
   "cell_type": "code",
   "execution_count": 11,
   "id": "5a394b51-0212-47ff-992a-2bb0d2763db7",
   "metadata": {},
   "outputs": [
    {
     "name": "stdout",
     "output_type": "stream",
     "text": [
      "\n",
      "3. 3x3 Identity Matrix:\n",
      "[[1. 0. 0.]\n",
      " [0. 1. 0.]\n",
      " [0. 0. 1.]]\n"
     ]
    }
   ],
   "source": [
    "identity_matrix = np.eye(3)\n",
    "print(\"\\n3. 3x3 Identity Matrix:\")\n",
    "print(identity_matrix)"
   ]
  },
  {
   "cell_type": "code",
   "execution_count": 12,
   "id": "c516a18a-868f-4cca-a152-053aba5365a1",
   "metadata": {},
   "outputs": [
    {
     "name": "stdout",
     "output_type": "stream",
     "text": [
      "\n",
      "4. 3x3x3 Array with random values:\n",
      "[[[0.6284263  0.50553916 0.0074886 ]\n",
      "  [0.03061249 0.99546734 0.00662674]\n",
      "  [0.26015616 0.91017379 0.76136239]]\n",
      "\n",
      " [[0.91649828 0.39657942 0.2132181 ]\n",
      "  [0.13219479 0.14179987 0.53941639]\n",
      "  [0.37879462 0.14012898 0.24689999]]\n",
      "\n",
      " [[0.76860121 0.27925597 0.91300364]\n",
      "  [0.65127207 0.34094606 0.30544406]\n",
      "  [0.22385483 0.94240706 0.39567098]]]\n"
     ]
    }
   ],
   "source": [
    "random_array = np.random.random((3, 3, 3))\n",
    "print(\"\\n4. 3x3x3 Array with random values:\")\n",
    "print(random_array)"
   ]
  },
  {
   "cell_type": "code",
   "execution_count": 13,
   "id": "e5bd2657-2f29-4043-8f05-edb2979a7753",
   "metadata": {},
   "outputs": [
    {
     "name": "stdout",
     "output_type": "stream",
     "text": [
      "\n",
      "5. 10x10 Array with random values:\n",
      "[[7.30730426e-01 5.93327000e-01 1.42018891e-01 8.64257493e-01\n",
      "  4.11940470e-01 3.83924231e-01 4.80041015e-01 3.46284828e-01\n",
      "  3.65535309e-01 4.94819984e-01]\n",
      " [2.66727568e-01 7.06844686e-01 4.97112288e-01 7.98418724e-01\n",
      "  8.27807986e-02 4.05957632e-01 9.32342031e-01 2.01153836e-01\n",
      "  2.73897442e-01 4.30808881e-01]\n",
      " [2.73238323e-01 9.84995519e-01 9.17829349e-01 2.98882847e-01\n",
      "  2.03459944e-01 2.94695632e-01 6.08207540e-01 2.64024515e-01\n",
      "  8.61212505e-01 2.25961029e-01]\n",
      " [7.81278460e-01 8.23566890e-01 2.01304360e-01 1.96002062e-01\n",
      "  9.09518057e-02 1.62212218e-01 3.24751263e-01 9.84271758e-01\n",
      "  7.70989564e-01 4.00481036e-01]\n",
      " [2.44881354e-01 6.46899510e-01 2.24704282e-04 2.54718257e-01\n",
      "  1.66934755e-01 6.67655113e-01 7.04693206e-01 4.30061382e-01\n",
      "  8.48268659e-01 8.82899225e-01]\n",
      " [8.61439732e-01 6.20204593e-01 4.08865668e-01 7.31679834e-01\n",
      "  2.19224697e-01 8.65243247e-01 3.51798125e-01 7.52438373e-01\n",
      "  5.74214993e-01 3.39847604e-01]\n",
      " [1.20167204e-01 6.62507428e-01 2.08606478e-02 1.23257792e-01\n",
      "  1.32298115e-01 3.14788204e-01 2.81672517e-01 4.83365188e-01\n",
      "  2.15782530e-01 6.08169362e-01]\n",
      " [3.24070400e-01 6.81945499e-01 9.19615465e-02 1.21018660e-01\n",
      "  8.01330755e-01 9.11728366e-01 5.83591364e-01 8.46849603e-02\n",
      "  4.60668531e-01 4.00444141e-01]\n",
      " [5.29215352e-02 4.82170392e-01 5.08403735e-01 7.72334500e-01\n",
      "  6.12067981e-01 2.16764205e-01 4.54025615e-01 3.77842390e-02\n",
      "  6.06402321e-01 4.43823543e-01]\n",
      " [1.78737432e-01 4.26628028e-01 7.29743327e-01 8.55905145e-01\n",
      "  6.74098550e-01 6.13868229e-01 5.15153237e-01 2.88329126e-01\n",
      "  1.50610337e-01 1.15208330e-01]]\n",
      "\n",
      "   Minimum value: 0.00022470428169185652\n",
      "   Maximum value: 0.9849955192060285\n"
     ]
    }
   ],
   "source": [
    "array_10x10 = np.random.random((10, 10))\n",
    "min_value = np.min(array_10x10)\n",
    "max_value = np.max(array_10x10)\n",
    "print(\"\\n5. 10x10 Array with random values:\")\n",
    "print(array_10x10)\n",
    "print(\"\\n   Minimum value:\", min_value)\n",
    "print(\"   Maximum value:\", max_value)"
   ]
  },
  {
   "cell_type": "code",
   "execution_count": 14,
   "id": "45237272-a22e-4002-9d59-9f17a266f0a7",
   "metadata": {},
   "outputs": [
    {
     "name": "stdout",
     "output_type": "stream",
     "text": [
      "1. Mean value of the random vector:\n",
      "0.417357486613456\n"
     ]
    }
   ],
   "source": [
    "random_vector = np.random.random(30)\n",
    "mean_value = np.mean(random_vector)\n",
    "print(\"1. Mean value of the random vector:\")\n",
    "print(mean_value)"
   ]
  },
  {
   "cell_type": "code",
   "execution_count": 15,
   "id": "9db0e2ce-66a4-41c5-9d17-fe265b96bfdb",
   "metadata": {},
   "outputs": [
    {
     "name": "stdout",
     "output_type": "stream",
     "text": [
      "\n",
      "2. 2D array with 1 on the border and 0 inside:\n",
      "[[1. 1. 1. 1. 1.]\n",
      " [1. 0. 0. 0. 1.]\n",
      " [1. 0. 0. 0. 1.]\n",
      " [1. 0. 0. 0. 1.]\n",
      " [1. 1. 1. 1. 1.]]\n"
     ]
    }
   ],
   "source": [
    "array_2d = np.ones((5, 5))\n",
    "array_2d[1:-1, 1:-1] = 0\n",
    "print(\"\\n2. 2D array with 1 on the border and 0 inside:\")\n",
    "print(array_2d)"
   ]
  },
  {
   "cell_type": "code",
   "execution_count": 16,
   "id": "4a860f47-f78e-4437-9108-3c4e70b24a27",
   "metadata": {},
   "outputs": [
    {
     "name": "stdout",
     "output_type": "stream",
     "text": [
      "\n",
      "3. Array with a border of 0's added around it:\n",
      "[[0. 0. 0. 0. 0.]\n",
      " [0. 1. 1. 1. 0.]\n",
      " [0. 1. 1. 1. 0.]\n",
      " [0. 1. 1. 1. 0.]\n",
      " [0. 0. 0. 0. 0.]]\n"
     ]
    }
   ],
   "source": [
    "existing_array = np.ones((3, 3))\n",
    "new_array = np.pad(existing_array, pad_width=1, mode='constant', constant_values=0)\n",
    "print(\"\\n3. Array with a border of 0's added around it:\")\n",
    "print(new_array)"
   ]
  },
  {
   "cell_type": "code",
   "execution_count": 17,
   "id": "28716ee2-e2b4-4afd-8b2d-4d6b535e00aa",
   "metadata": {},
   "outputs": [
    {
     "name": "stdout",
     "output_type": "stream",
     "text": [
      "\n",
      "4. 5x5 Matrix with values 1,2,3,4 just below the diagonal:\n",
      "[[0 0 0 0 0]\n",
      " [1 0 0 0 0]\n",
      " [0 2 0 0 0]\n",
      " [0 0 3 0 0]\n",
      " [0 0 0 4 0]]\n"
     ]
    }
   ],
   "source": [
    "matrix = np.diag(1 + np.arange(4), k=-1)\n",
    "print(\"\\n4. 5x5 Matrix with values 1,2,3,4 just below the diagonal:\")\n",
    "print(matrix)\n"
   ]
  },
  {
   "cell_type": "code",
   "execution_count": 18,
   "id": "eeaa653b-9609-4149-9010-6ba3aed1e3fe",
   "metadata": {},
   "outputs": [
    {
     "name": "stdout",
     "output_type": "stream",
     "text": [
      "\n",
      "5. 8x8 Matrix filled with a checkerboard pattern:\n",
      "[[0 1 0 1 0 1 0 1]\n",
      " [1 0 1 0 1 0 1 0]\n",
      " [0 1 0 1 0 1 0 1]\n",
      " [1 0 1 0 1 0 1 0]\n",
      " [0 1 0 1 0 1 0 1]\n",
      " [1 0 1 0 1 0 1 0]\n",
      " [0 1 0 1 0 1 0 1]\n",
      " [1 0 1 0 1 0 1 0]]\n"
     ]
    }
   ],
   "source": [
    "checkerboard = np.zeros((8, 8), dtype=int)\n",
    "checkerboard[1::2, ::2] = 1\n",
    "checkerboard[::2, 1::2] = 1\n",
    "print(\"\\n5. 8x8 Matrix filled with a checkerboard pattern:\")\n",
    "print(checkerboard)"
   ]
  },
  {
   "cell_type": "code",
   "execution_count": 19,
   "id": "8a3ef12e-6119-4ec2-b9e9-d402780dc176",
   "metadata": {},
   "outputs": [
    {
     "name": "stdout",
     "output_type": "stream",
     "text": [
      "Index of the 100th element (x, y, z): (1, 5, 3)\n"
     ]
    }
   ],
   "source": [
    "array_shape = (6, 7, 8)\n",
    "total_elements = np.prod(array_shape)\n",
    "\n",
    "index_100 = np.unravel_index(99, array_shape)\n",
    "\n",
    "print(\"Index of the 100th element (x, y, z):\", index_100)"
   ]
  },
  {
   "cell_type": "code",
   "execution_count": 20,
   "id": "937d52cb-4709-4647-874e-96f9fa0fbe13",
   "metadata": {},
   "outputs": [
    {
     "data": {
      "text/plain": [
       "False"
      ]
     },
     "execution_count": 20,
     "metadata": {},
     "output_type": "execute_result"
    }
   ],
   "source": [
    "0 * np.nan\n",
    "np.nan == np.nan\n",
    "np.inf > np.nan\n",
    "np.nan - np.nan\n",
    "np.nan in set([np.nan])\n",
    "0.3 == 3 * 0.1"
   ]
  },
  {
   "cell_type": "code",
   "execution_count": null,
   "id": "297a1990-bd15-47cd-8791-e5a2a88a2ae7",
   "metadata": {},
   "outputs": [],
   "source": []
  }
 ],
 "metadata": {
  "kernelspec": {
   "display_name": "Python 3 (ipykernel)",
   "language": "python",
   "name": "python3"
  },
  "language_info": {
   "codemirror_mode": {
    "name": "ipython",
    "version": 3
   },
   "file_extension": ".py",
   "mimetype": "text/x-python",
   "name": "python",
   "nbconvert_exporter": "python",
   "pygments_lexer": "ipython3",
   "version": "3.11.7"
  }
 },
 "nbformat": 4,
 "nbformat_minor": 5
}
